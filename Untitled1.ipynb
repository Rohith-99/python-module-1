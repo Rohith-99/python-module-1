{
  "nbformat": 4,
  "nbformat_minor": 0,
  "metadata": {
    "colab": {
      "name": "Untitled1.ipynb",
      "provenance": [],
      "authorship_tag": "ABX9TyN0QtMhs7Xt0a4NqXjivJ8O",
      "include_colab_link": true
    },
    "kernelspec": {
      "name": "python3",
      "display_name": "Python 3"
    }
  },
  "cells": [
    {
      "cell_type": "markdown",
      "metadata": {
        "id": "view-in-github",
        "colab_type": "text"
      },
      "source": [
        "<a href=\"https://colab.research.google.com/github/Rohith-99/python-module-1/blob/master/Untitled1.ipynb\" target=\"_parent\"><img src=\"https://colab.research.google.com/assets/colab-badge.svg\" alt=\"Open In Colab\"/></a>"
      ]
    },
    {
      "cell_type": "code",
      "metadata": {
        "id": "m-kuHrX_uKd8",
        "colab_type": "code",
        "colab": {}
      },
      "source": [
        "Assignment 3"
      ],
      "execution_count": null,
      "outputs": []
    },
    {
      "cell_type": "markdown",
      "metadata": {
        "id": "5gGeFOsquXjz",
        "colab_type": "text"
      },
      "source": [
        " Question 1"
      ]
    },
    {
      "cell_type": "code",
      "metadata": {
        "id": "FUESVZZfufxU",
        "colab_type": "code",
        "colab": {
          "base_uri": "https://localhost:8080/",
          "height": 34
        },
        "outputId": "50d98b33-7cbb-497d-a71f-74d90601dd1f"
      },
      "source": [
        " a=20\n",
        "b=10\n",
        "if a==b:\n",
        "  print(\"equal\")\n",
        "else:\n",
        "  print(\"unequal\")"
      ],
      "execution_count": 1,
      "outputs": [
        {
          "output_type": "stream",
          "text": [
            "unequal\n"
          ],
          "name": "stdout"
        }
      ]
    },
    {
      "cell_type": "markdown",
      "metadata": {
        "id": "VyvfcEUkunmE",
        "colab_type": "text"
      },
      "source": [
        " Question 2"
      ]
    },
    {
      "cell_type": "code",
      "metadata": {
        "id": "a0pU6CcBuymU",
        "colab_type": "code",
        "colab": {
          "base_uri": "https://localhost:8080/",
          "height": 34
        },
        "outputId": "24db118d-7310-44fc-f461-31f80bb356cb"
      },
      "source": [
        " a=5\n",
        "b=5\n",
        "c=10\n",
        "if a==b==c:\n",
        "  print(\"All are equal\")\n",
        "elif a==b!=c:\n",
        "  print(\"Any two are equal\")\n",
        "else:\n",
        "  print(\"All are unequal\")"
      ],
      "execution_count": 2,
      "outputs": [
        {
          "output_type": "stream",
          "text": [
            "Any two are equal\n"
          ],
          "name": "stdout"
        }
      ]
    },
    {
      "cell_type": "markdown",
      "metadata": {
        "id": "kTx62aMwu2qE",
        "colab_type": "text"
      },
      "source": [
        "Question 3"
      ]
    },
    {
      "cell_type": "code",
      "metadata": {
        "id": "of5OEOjVu4Cu",
        "colab_type": "code",
        "colab": {
          "base_uri": "https://localhost:8080/",
          "height": 51
        },
        "outputId": "d930d218-d5c4-49e9-df70-f30f59e6f570"
      },
      "source": [
        " a=2\n",
        "b=3\n",
        "res=a+b\n",
        "print('res is:')\n",
        "if res > 5:\n",
        "  print(\"result is greather than 5:\",res)\n",
        "elif res < 5:\n",
        "  print(\"result is lesser than 5:\",res)\n",
        "else:\n",
        "  print(\"result is equal to 5:\",res)"
      ],
      "execution_count": 3,
      "outputs": [
        {
          "output_type": "stream",
          "text": [
            "res is:\n",
            "result is equal to 5: 5\n"
          ],
          "name": "stdout"
        }
      ]
    },
    {
      "cell_type": "markdown",
      "metadata": {
        "id": "DUbyP7dVu95I",
        "colab_type": "text"
      },
      "source": [
        "Question 4"
      ]
    },
    {
      "cell_type": "code",
      "metadata": {
        "id": "UsrMWTODu_oe",
        "colab_type": "code",
        "colab": {
          "base_uri": "https://localhost:8080/",
          "height": 51
        },
        "outputId": "f75ec391-8f67-4281-be69-db08bd1c3e1b"
      },
      "source": [
        " a=int(input('enter value of a:'))\n",
        "if a > 35:\n",
        "  print(\"your number is greather than 35\")\n",
        "else:\n",
        "  print(\"your number is less than 35\")"
      ],
      "execution_count": 4,
      "outputs": [
        {
          "output_type": "stream",
          "text": [
            "enter value of a:6\n",
            "your number is less than 35\n"
          ],
          "name": "stdout"
        }
      ]
    },
    {
      "cell_type": "markdown",
      "metadata": {
        "id": "tAZgyXDWvHoN",
        "colab_type": "text"
      },
      "source": [
        "Question 5"
      ]
    },
    {
      "cell_type": "code",
      "metadata": {
        "id": "tz3KdgQovTAi",
        "colab_type": "code",
        "colab": {
          "base_uri": "https://localhost:8080/",
          "height": 51
        },
        "outputId": "fdc9a2bd-226c-4352-cfaf-bed426546538"
      },
      "source": [
        " a=int(input('enter value of a:'))\n",
        "if a > 35:\n",
        "  print(\"your number is greather than 35\")\n",
        "else:\n",
        "  print(\"your number is less than 35\")"
      ],
      "execution_count": 6,
      "outputs": [
        {
          "output_type": "stream",
          "text": [
            "enter value of a:25\n",
            "your number is less than 35\n"
          ],
          "name": "stdout"
        }
      ]
    }
  ]
}